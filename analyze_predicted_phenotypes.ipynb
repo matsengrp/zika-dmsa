{
 "cells": [
  {
   "cell_type": "markdown",
   "id": "207edc60",
   "metadata": {},
   "source": [
    "# Analyze predicted phenotypes"
   ]
  },
  {
   "cell_type": "markdown",
   "id": "d25d6f3e",
   "metadata": {},
   "source": [
    "Import `Python` modules"
   ]
  },
  {
   "cell_type": "code",
   "execution_count": 40,
   "id": "5a9057f5",
   "metadata": {},
   "outputs": [],
   "source": [
    "import pandas as pd\n",
    "import matplotlib\n",
    "import matplotlib.pyplot as plt\n",
    "import seaborn as sns"
   ]
  },
  {
   "cell_type": "markdown",
   "id": "c34c54f0",
   "metadata": {},
   "source": [
    "Read in data on mutations"
   ]
  },
  {
   "cell_type": "code",
   "execution_count": 41,
   "id": "dc70e95e",
   "metadata": {},
   "outputs": [],
   "source": [
    "subs_df = pd.read_csv('results/{experiment_label}_additive_phenotype.csv')\n",
    "subs_df['aa_substitutions'].fillna('', inplace=True)\n",
    "subs_df['nsubs'] = subs_df['aa_substitutions'].apply(lambda x: len(x.split(' ')))"
   ]
  },
  {
   "cell_type": "code",
   "execution_count": 42,
   "id": "9be8f14a",
   "metadata": {},
   "outputs": [
    {
     "data": {
      "text/html": [
       "<div>\n",
       "<style scoped>\n",
       "    .dataframe tbody tr th:only-of-type {\n",
       "        vertical-align: middle;\n",
       "    }\n",
       "\n",
       "    .dataframe tbody tr th {\n",
       "        vertical-align: top;\n",
       "    }\n",
       "\n",
       "    .dataframe thead th {\n",
       "        text-align: right;\n",
       "    }\n",
       "</style>\n",
       "<table border=\"1\" class=\"dataframe\">\n",
       "  <thead>\n",
       "    <tr style=\"text-align: right;\">\n",
       "      <th></th>\n",
       "      <th>strain</th>\n",
       "      <th>seq</th>\n",
       "      <th>aa_substitutions</th>\n",
       "      <th>variant_escape_score</th>\n",
       "      <th>nsubs</th>\n",
       "    </tr>\n",
       "  </thead>\n",
       "  <tbody>\n",
       "    <tr>\n",
       "      <th>0</th>\n",
       "      <td>HQ234498.1</td>\n",
       "      <td>IRCIGVSNRDFVEGMSGGTWVDVVLEHGGCVTVMAQDKPTVDIELV...</td>\n",
       "      <td></td>\n",
       "      <td>0.000000</td>\n",
       "      <td>1</td>\n",
       "    </tr>\n",
       "    <tr>\n",
       "      <th>1</th>\n",
       "      <td>KF993678</td>\n",
       "      <td>IRCIGVSNRDFVEGMSGGTWVDVVLEHGGCVTVMAQDKPTVDIELV...</td>\n",
       "      <td>T120A Y158H V169I K283R F285S V317I I341V V343...</td>\n",
       "      <td>-5.471801</td>\n",
       "      <td>14</td>\n",
       "    </tr>\n",
       "    <tr>\n",
       "      <th>2</th>\n",
       "      <td>KJ776791</td>\n",
       "      <td>IRCIGVSNRDFVEGMSGGTWVDVVLEHGGCVTVMAQDKPTVDIELV...</td>\n",
       "      <td>T120A Y158H V169I K283R F285S V317I I341V V343...</td>\n",
       "      <td>-5.471801</td>\n",
       "      <td>14</td>\n",
       "    </tr>\n",
       "    <tr>\n",
       "      <th>3</th>\n",
       "      <td>KU312312</td>\n",
       "      <td>IRCIGVSNRDFVEGMSGGTWVDVVLEHGGCVTVMAQDKPTVDIELV...</td>\n",
       "      <td>T120A Y158H V169I K283R F285S V317I I341V V343...</td>\n",
       "      <td>-5.709405</td>\n",
       "      <td>15</td>\n",
       "    </tr>\n",
       "    <tr>\n",
       "      <th>4</th>\n",
       "      <td>KU321639</td>\n",
       "      <td>IRCIGVSNRDFVEGMSGGTWVDIVLEHGGCVTVMAQDKPTVDIELV...</td>\n",
       "      <td>V23I T120A Y158H V169I K283R F285S V317I I341V...</td>\n",
       "      <td>-5.338149</td>\n",
       "      <td>15</td>\n",
       "    </tr>\n",
       "  </tbody>\n",
       "</table>\n",
       "</div>"
      ],
      "text/plain": [
       "       strain                                                seq  \\\n",
       "0  HQ234498.1  IRCIGVSNRDFVEGMSGGTWVDVVLEHGGCVTVMAQDKPTVDIELV...   \n",
       "1    KF993678  IRCIGVSNRDFVEGMSGGTWVDVVLEHGGCVTVMAQDKPTVDIELV...   \n",
       "2    KJ776791  IRCIGVSNRDFVEGMSGGTWVDVVLEHGGCVTVMAQDKPTVDIELV...   \n",
       "3    KU312312  IRCIGVSNRDFVEGMSGGTWVDVVLEHGGCVTVMAQDKPTVDIELV...   \n",
       "4    KU321639  IRCIGVSNRDFVEGMSGGTWVDIVLEHGGCVTVMAQDKPTVDIELV...   \n",
       "\n",
       "                                    aa_substitutions  variant_escape_score  \\\n",
       "0                                                                 0.000000   \n",
       "1  T120A Y158H V169I K283R F285S V317I I341V V343...             -5.471801   \n",
       "2  T120A Y158H V169I K283R F285S V317I I341V V343...             -5.471801   \n",
       "3  T120A Y158H V169I K283R F285S V317I I341V V343...             -5.709405   \n",
       "4  V23I T120A Y158H V169I K283R F285S V317I I341V...             -5.338149   \n",
       "\n",
       "   nsubs  \n",
       "0      1  \n",
       "1     14  \n",
       "2     14  \n",
       "3     15  \n",
       "4     15  "
      ]
     },
     "execution_count": 42,
     "metadata": {},
     "output_type": "execute_result"
    }
   ],
   "source": [
    "subs_df.head()"
   ]
  },
  {
   "cell_type": "code",
   "execution_count": 43,
   "id": "efb83dba",
   "metadata": {},
   "outputs": [
    {
     "data": {
      "image/png": "[encoded data removed]",
      "text/plain": [
       "<Figure size 640x480 with 1 Axes>"
      ]
     },
     "metadata": {},
     "output_type": "display_data"
    }
   ],
   "source": [
    "sns.histplot(x='nsubs', data=subs_df)\n",
    "sns.despine()\n",
    "plt.show()"
   ]
  },
  {
   "cell_type": "code",
   "execution_count": null,
   "id": "23346187",
   "metadata": {},
   "outputs": [],
   "source": []
  },
  {
   "cell_type": "code",
   "execution_count": 23,
   "id": "421b8f74",
   "metadata": {},
   "outputs": [
    {
     "data": {
      "text/plain": [
       "['T120A',\n",
       " 'Y158H',\n",
       " 'V169I',\n",
       " 'K283R',\n",
       " 'F285S',\n",
       " 'V317I',\n",
       " 'I341V',\n",
       " 'V343A',\n",
       " 'D393E',\n",
       " 'V437A',\n",
       " 'F438L',\n",
       " 'V473M',\n",
       " 'T487M',\n",
       " 'M495L']"
      ]
     },
     "execution_count": 23,
     "metadata": {},
     "output_type": "execute_result"
    }
   ],
   "source": [
    "aa_substitutions = df[df['strain'] == 'KF993678']['aa_substitutions'].iloc[0].split(' ')\n",
    "aa_substitutions"
   ]
  },
  {
   "cell_type": "markdown",
   "id": "4e4c0c82",
   "metadata": {},
   "source": [
    "Read in data on mut effects"
   ]
  },
  {
   "cell_type": "code",
   "execution_count": 25,
   "id": "83c60698",
   "metadata": {},
   "outputs": [
    {
     "data": {
      "text/html": [
       "<div>\n",
       "<style scoped>\n",
       "    .dataframe tbody tr th:only-of-type {\n",
       "        vertical-align: middle;\n",
       "    }\n",
       "\n",
       "    .dataframe tbody tr th {\n",
       "        vertical-align: top;\n",
       "    }\n",
       "\n",
       "    .dataframe thead th {\n",
       "        text-align: right;\n",
       "    }\n",
       "</style>\n",
       "<table border=\"1\" class=\"dataframe\">\n",
       "  <thead>\n",
       "    <tr style=\"text-align: right;\">\n",
       "      <th></th>\n",
       "      <th>site</th>\n",
       "      <th>wildtype</th>\n",
       "      <th>mutation</th>\n",
       "      <th>mutdiffsel</th>\n",
       "      <th>aa_substitution</th>\n",
       "    </tr>\n",
       "  </thead>\n",
       "  <tbody>\n",
       "    <tr>\n",
       "      <th>9407</th>\n",
       "      <td>1</td>\n",
       "      <td>I</td>\n",
       "      <td>V</td>\n",
       "      <td>-1.809514</td>\n",
       "      <td>I1V</td>\n",
       "    </tr>\n",
       "    <tr>\n",
       "      <th>9485</th>\n",
       "      <td>1</td>\n",
       "      <td>I</td>\n",
       "      <td>T</td>\n",
       "      <td>-2.208903</td>\n",
       "      <td>I1T</td>\n",
       "    </tr>\n",
       "    <tr>\n",
       "      <th>7816</th>\n",
       "      <td>1</td>\n",
       "      <td>I</td>\n",
       "      <td>N</td>\n",
       "      <td>-0.263705</td>\n",
       "      <td>I1N</td>\n",
       "    </tr>\n",
       "    <tr>\n",
       "      <th>8579</th>\n",
       "      <td>1</td>\n",
       "      <td>I</td>\n",
       "      <td>L</td>\n",
       "      <td>-0.610291</td>\n",
       "      <td>I1L</td>\n",
       "    </tr>\n",
       "    <tr>\n",
       "      <th>6834</th>\n",
       "      <td>1</td>\n",
       "      <td>I</td>\n",
       "      <td>S</td>\n",
       "      <td>-0.021196</td>\n",
       "      <td>I1S</td>\n",
       "    </tr>\n",
       "  </tbody>\n",
       "</table>\n",
       "</div>"
      ],
      "text/plain": [
       "      site wildtype mutation  mutdiffsel aa_substitution\n",
       "9407     1        I        V   -1.809514             I1V\n",
       "9485     1        I        T   -2.208903             I1T\n",
       "7816     1        I        N   -0.263705             I1N\n",
       "8579     1        I        L   -0.610291             I1L\n",
       "6834     1        I        S   -0.021196             I1S"
      ]
     },
     "execution_count": 25,
     "metadata": {},
     "output_type": "execute_result"
    }
   ],
   "source": [
    "mut_effects_df = pd.read_csv('my_profiles/diff-sel-data/MZ4/summary_MZ4-medianmutdiffsel.csv')\n",
    "mut_effects_df['aa_substitution'] = mut_effects_df['wildtype'] + mut_effects_df['site'].astype('string') + mut_effects_df['mutation']\n",
    "mut_effects_df.sort_values('site', inplace=True)\n",
    "mut_effects_df.head()"
   ]
  },
  {
   "cell_type": "code",
   "execution_count": 28,
   "id": "c31d64a4",
   "metadata": {},
   "outputs": [
    {
     "data": {
      "text/html": [
       "<div>\n",
       "<style scoped>\n",
       "    .dataframe tbody tr th:only-of-type {\n",
       "        vertical-align: middle;\n",
       "    }\n",
       "\n",
       "    .dataframe tbody tr th {\n",
       "        vertical-align: top;\n",
       "    }\n",
       "\n",
       "    .dataframe thead th {\n",
       "        text-align: right;\n",
       "    }\n",
       "</style>\n",
       "<table border=\"1\" class=\"dataframe\">\n",
       "  <thead>\n",
       "    <tr style=\"text-align: right;\">\n",
       "      <th></th>\n",
       "      <th>site</th>\n",
       "      <th>wildtype</th>\n",
       "      <th>mutation</th>\n",
       "      <th>mutdiffsel</th>\n",
       "      <th>aa_substitution</th>\n",
       "    </tr>\n",
       "  </thead>\n",
       "  <tbody>\n",
       "    <tr>\n",
       "      <th>206</th>\n",
       "      <td>120</td>\n",
       "      <td>T</td>\n",
       "      <td>A</td>\n",
       "      <td>0.295154</td>\n",
       "      <td>T120A</td>\n",
       "    </tr>\n",
       "    <tr>\n",
       "      <th>374</th>\n",
       "      <td>158</td>\n",
       "      <td>Y</td>\n",
       "      <td>H</td>\n",
       "      <td>0.148574</td>\n",
       "      <td>Y158H</td>\n",
       "    </tr>\n",
       "    <tr>\n",
       "      <th>9393</th>\n",
       "      <td>169</td>\n",
       "      <td>V</td>\n",
       "      <td>I</td>\n",
       "      <td>-1.762585</td>\n",
       "      <td>V169I</td>\n",
       "    </tr>\n",
       "    <tr>\n",
       "      <th>9015</th>\n",
       "      <td>283</td>\n",
       "      <td>K</td>\n",
       "      <td>R</td>\n",
       "      <td>-0.975302</td>\n",
       "      <td>K283R</td>\n",
       "    </tr>\n",
       "    <tr>\n",
       "      <th>8798</th>\n",
       "      <td>285</td>\n",
       "      <td>F</td>\n",
       "      <td>S</td>\n",
       "      <td>-0.765144</td>\n",
       "      <td>F285S</td>\n",
       "    </tr>\n",
       "    <tr>\n",
       "      <th>8091</th>\n",
       "      <td>317</td>\n",
       "      <td>V</td>\n",
       "      <td>I</td>\n",
       "      <td>-0.364195</td>\n",
       "      <td>V317I</td>\n",
       "    </tr>\n",
       "    <tr>\n",
       "      <th>6911</th>\n",
       "      <td>341</td>\n",
       "      <td>I</td>\n",
       "      <td>V</td>\n",
       "      <td>-0.041233</td>\n",
       "      <td>I341V</td>\n",
       "    </tr>\n",
       "    <tr>\n",
       "      <th>7226</th>\n",
       "      <td>343</td>\n",
       "      <td>V</td>\n",
       "      <td>A</td>\n",
       "      <td>-0.141812</td>\n",
       "      <td>V343A</td>\n",
       "    </tr>\n",
       "    <tr>\n",
       "      <th>7189</th>\n",
       "      <td>393</td>\n",
       "      <td>D</td>\n",
       "      <td>E</td>\n",
       "      <td>-0.125070</td>\n",
       "      <td>D393E</td>\n",
       "    </tr>\n",
       "    <tr>\n",
       "      <th>7339</th>\n",
       "      <td>437</td>\n",
       "      <td>V</td>\n",
       "      <td>A</td>\n",
       "      <td>-0.179006</td>\n",
       "      <td>V437A</td>\n",
       "    </tr>\n",
       "    <tr>\n",
       "      <th>8983</th>\n",
       "      <td>438</td>\n",
       "      <td>F</td>\n",
       "      <td>L</td>\n",
       "      <td>-0.933333</td>\n",
       "      <td>F438L</td>\n",
       "    </tr>\n",
       "    <tr>\n",
       "      <th>8995</th>\n",
       "      <td>473</td>\n",
       "      <td>V</td>\n",
       "      <td>M</td>\n",
       "      <td>-0.949441</td>\n",
       "      <td>V473M</td>\n",
       "    </tr>\n",
       "    <tr>\n",
       "      <th>5537</th>\n",
       "      <td>487</td>\n",
       "      <td>T</td>\n",
       "      <td>M</td>\n",
       "      <td>-0.000388</td>\n",
       "      <td>T487M</td>\n",
       "    </tr>\n",
       "    <tr>\n",
       "      <th>186</th>\n",
       "      <td>495</td>\n",
       "      <td>M</td>\n",
       "      <td>L</td>\n",
       "      <td>0.321979</td>\n",
       "      <td>M495L</td>\n",
       "    </tr>\n",
       "  </tbody>\n",
       "</table>\n",
       "</div>"
      ],
      "text/plain": [
       "      site wildtype mutation  mutdiffsel aa_substitution\n",
       "206    120        T        A    0.295154           T120A\n",
       "374    158        Y        H    0.148574           Y158H\n",
       "9393   169        V        I   -1.762585           V169I\n",
       "9015   283        K        R   -0.975302           K283R\n",
       "8798   285        F        S   -0.765144           F285S\n",
       "8091   317        V        I   -0.364195           V317I\n",
       "6911   341        I        V   -0.041233           I341V\n",
       "7226   343        V        A   -0.141812           V343A\n",
       "7189   393        D        E   -0.125070           D393E\n",
       "7339   437        V        A   -0.179006           V437A\n",
       "8983   438        F        L   -0.933333           F438L\n",
       "8995   473        V        M   -0.949441           V473M\n",
       "5537   487        T        M   -0.000388           T487M\n",
       "186    495        M        L    0.321979           M495L"
      ]
     },
     "execution_count": 28,
     "metadata": {},
     "output_type": "execute_result"
    }
   ],
   "source": [
    "mut_effects_df[\n",
    "    mut_effects_df['aa_substitution'].isin(aa_substitutions)\n",
    "]"
   ]
  },
  {
   "cell_type": "code",
   "execution_count": 30,
   "id": "6c5183de",
   "metadata": {},
   "outputs": [
    {
     "data": {
      "text/plain": [
       "-4.81137849510672"
      ]
     },
     "execution_count": 30,
     "metadata": {},
     "output_type": "execute_result"
    }
   ],
   "source": [
    "mut_effects_df['mutdiffsel'].min()"
   ]
  },
  {
   "cell_type": "code",
   "execution_count": null,
   "id": "acddc8a6",
   "metadata": {},
   "outputs": [],
   "source": []
  },
  {
   "cell_type": "code",
   "execution_count": null,
   "id": "7e291ca5",
   "metadata": {},
   "outputs": [],
   "source": []
  },
  {
   "cell_type": "code",
   "execution_count": null,
   "id": "3ad56892",
   "metadata": {},
   "outputs": [],
   "source": []
  }
 ],
 "metadata": {
  "kernelspec": {
   "display_name": "Python 3 (ipykernel)",
   "language": "python",
   "name": "python3"
  },
  "language_info": {
   "codemirror_mode": {
    "name": "ipython",
    "version": 3
   },
   "file_extension": ".py",
   "mimetype": "text/x-python",
   "name": "python",
   "nbconvert_exporter": "python",
   "pygments_lexer": "ipython3",
   "version": "3.10.4"
  }
 },
 "nbformat": 4,
 "nbformat_minor": 5
}
